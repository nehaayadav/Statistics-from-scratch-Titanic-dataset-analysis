{
  "nbformat": 4,
  "nbformat_minor": 0,
  "metadata": {
    "colab": {
      "provenance": []
    },
    "kernelspec": {
      "name": "python3",
      "display_name": "Python 3"
    },
    "language_info": {
      "name": "python"
    }
  },
  "cells": [
    {
      "cell_type": "markdown",
      "source": [
        "# Descriptive Statistics"
      ],
      "metadata": {
        "id": "aBn55dkJ6t0E"
      }
    },
    {
      "cell_type": "markdown",
      "source": [
        "### Importing important libraries"
      ],
      "metadata": {
        "id": "xiA0wNHa9ke4"
      }
    },
    {
      "cell_type": "code",
      "source": [
        "import matplotlib.pyplot as plt\n",
        "import numpy as np\n",
        "import math\n",
        "import pandas as pd\n",
        "from google.colab import drive"
      ],
      "metadata": {
        "id": "7PFkfHKf9k6W"
      },
      "execution_count": 311,
      "outputs": []
    },
    {
      "cell_type": "code",
      "source": [
        "drive.mount('/content/drive')"
      ],
      "metadata": {
        "colab": {
          "base_uri": "https://localhost:8080/"
        },
        "id": "LctShzvX9vwi",
        "outputId": "811e5956-192a-419c-f069-6c157967ddcf"
      },
      "execution_count": 312,
      "outputs": [
        {
          "output_type": "stream",
          "name": "stdout",
          "text": [
            "Drive already mounted at /content/drive; to attempt to forcibly remount, call drive.mount(\"/content/drive\", force_remount=True).\n"
          ]
        }
      ]
    },
    {
      "cell_type": "code",
      "source": [
        "titanic = pd.read_csv(\"/content/drive/MyDrive/Dataset/titanic dataset/Titanic-Dataset.csv\")"
      ],
      "metadata": {
        "id": "Gey51vNl-tpw"
      },
      "execution_count": 313,
      "outputs": []
    },
    {
      "cell_type": "code",
      "source": [
        "titanic.head()"
      ],
      "metadata": {
        "colab": {
          "base_uri": "https://localhost:8080/",
          "height": 241
        },
        "id": "vfJHks_W_j1v",
        "outputId": "a468283f-6151-4af6-9371-e7202927f9f0"
      },
      "execution_count": 314,
      "outputs": [
        {
          "output_type": "execute_result",
          "data": {
            "text/plain": [
              "   PassengerId  Survived  Pclass  \\\n",
              "0            1         0       3   \n",
              "1            2         1       1   \n",
              "2            3         1       3   \n",
              "3            4         1       1   \n",
              "4            5         0       3   \n",
              "\n",
              "                                                Name     Sex   Age  SibSp  \\\n",
              "0                            Braund, Mr. Owen Harris    male  22.0      1   \n",
              "1  Cumings, Mrs. John Bradley (Florence Briggs Th...  female  38.0      1   \n",
              "2                             Heikkinen, Miss. Laina  female  26.0      0   \n",
              "3       Futrelle, Mrs. Jacques Heath (Lily May Peel)  female  35.0      1   \n",
              "4                           Allen, Mr. William Henry    male  35.0      0   \n",
              "\n",
              "   Parch            Ticket     Fare Cabin Embarked  \n",
              "0      0         A/5 21171   7.2500   NaN        S  \n",
              "1      0          PC 17599  71.2833   C85        C  \n",
              "2      0  STON/O2. 3101282   7.9250   NaN        S  \n",
              "3      0            113803  53.1000  C123        S  \n",
              "4      0            373450   8.0500   NaN        S  "
            ],
            "text/html": [
              "\n",
              "  <div id=\"df-88351bb8-8b5e-453e-8699-c6086695c0e5\" class=\"colab-df-container\">\n",
              "    <div>\n",
              "<style scoped>\n",
              "    .dataframe tbody tr th:only-of-type {\n",
              "        vertical-align: middle;\n",
              "    }\n",
              "\n",
              "    .dataframe tbody tr th {\n",
              "        vertical-align: top;\n",
              "    }\n",
              "\n",
              "    .dataframe thead th {\n",
              "        text-align: right;\n",
              "    }\n",
              "</style>\n",
              "<table border=\"1\" class=\"dataframe\">\n",
              "  <thead>\n",
              "    <tr style=\"text-align: right;\">\n",
              "      <th></th>\n",
              "      <th>PassengerId</th>\n",
              "      <th>Survived</th>\n",
              "      <th>Pclass</th>\n",
              "      <th>Name</th>\n",
              "      <th>Sex</th>\n",
              "      <th>Age</th>\n",
              "      <th>SibSp</th>\n",
              "      <th>Parch</th>\n",
              "      <th>Ticket</th>\n",
              "      <th>Fare</th>\n",
              "      <th>Cabin</th>\n",
              "      <th>Embarked</th>\n",
              "    </tr>\n",
              "  </thead>\n",
              "  <tbody>\n",
              "    <tr>\n",
              "      <th>0</th>\n",
              "      <td>1</td>\n",
              "      <td>0</td>\n",
              "      <td>3</td>\n",
              "      <td>Braund, Mr. Owen Harris</td>\n",
              "      <td>male</td>\n",
              "      <td>22.0</td>\n",
              "      <td>1</td>\n",
              "      <td>0</td>\n",
              "      <td>A/5 21171</td>\n",
              "      <td>7.2500</td>\n",
              "      <td>NaN</td>\n",
              "      <td>S</td>\n",
              "    </tr>\n",
              "    <tr>\n",
              "      <th>1</th>\n",
              "      <td>2</td>\n",
              "      <td>1</td>\n",
              "      <td>1</td>\n",
              "      <td>Cumings, Mrs. John Bradley (Florence Briggs Th...</td>\n",
              "      <td>female</td>\n",
              "      <td>38.0</td>\n",
              "      <td>1</td>\n",
              "      <td>0</td>\n",
              "      <td>PC 17599</td>\n",
              "      <td>71.2833</td>\n",
              "      <td>C85</td>\n",
              "      <td>C</td>\n",
              "    </tr>\n",
              "    <tr>\n",
              "      <th>2</th>\n",
              "      <td>3</td>\n",
              "      <td>1</td>\n",
              "      <td>3</td>\n",
              "      <td>Heikkinen, Miss. Laina</td>\n",
              "      <td>female</td>\n",
              "      <td>26.0</td>\n",
              "      <td>0</td>\n",
              "      <td>0</td>\n",
              "      <td>STON/O2. 3101282</td>\n",
              "      <td>7.9250</td>\n",
              "      <td>NaN</td>\n",
              "      <td>S</td>\n",
              "    </tr>\n",
              "    <tr>\n",
              "      <th>3</th>\n",
              "      <td>4</td>\n",
              "      <td>1</td>\n",
              "      <td>1</td>\n",
              "      <td>Futrelle, Mrs. Jacques Heath (Lily May Peel)</td>\n",
              "      <td>female</td>\n",
              "      <td>35.0</td>\n",
              "      <td>1</td>\n",
              "      <td>0</td>\n",
              "      <td>113803</td>\n",
              "      <td>53.1000</td>\n",
              "      <td>C123</td>\n",
              "      <td>S</td>\n",
              "    </tr>\n",
              "    <tr>\n",
              "      <th>4</th>\n",
              "      <td>5</td>\n",
              "      <td>0</td>\n",
              "      <td>3</td>\n",
              "      <td>Allen, Mr. William Henry</td>\n",
              "      <td>male</td>\n",
              "      <td>35.0</td>\n",
              "      <td>0</td>\n",
              "      <td>0</td>\n",
              "      <td>373450</td>\n",
              "      <td>8.0500</td>\n",
              "      <td>NaN</td>\n",
              "      <td>S</td>\n",
              "    </tr>\n",
              "  </tbody>\n",
              "</table>\n",
              "</div>\n",
              "    <div class=\"colab-df-buttons\">\n",
              "\n",
              "  <div class=\"colab-df-container\">\n",
              "    <button class=\"colab-df-convert\" onclick=\"convertToInteractive('df-88351bb8-8b5e-453e-8699-c6086695c0e5')\"\n",
              "            title=\"Convert this dataframe to an interactive table.\"\n",
              "            style=\"display:none;\">\n",
              "\n",
              "  <svg xmlns=\"http://www.w3.org/2000/svg\" height=\"24px\" viewBox=\"0 -960 960 960\">\n",
              "    <path d=\"M120-120v-720h720v720H120Zm60-500h600v-160H180v160Zm220 220h160v-160H400v160Zm0 220h160v-160H400v160ZM180-400h160v-160H180v160Zm440 0h160v-160H620v160ZM180-180h160v-160H180v160Zm440 0h160v-160H620v160Z\"/>\n",
              "  </svg>\n",
              "    </button>\n",
              "\n",
              "  <style>\n",
              "    .colab-df-container {\n",
              "      display:flex;\n",
              "      gap: 12px;\n",
              "    }\n",
              "\n",
              "    .colab-df-convert {\n",
              "      background-color: #E8F0FE;\n",
              "      border: none;\n",
              "      border-radius: 50%;\n",
              "      cursor: pointer;\n",
              "      display: none;\n",
              "      fill: #1967D2;\n",
              "      height: 32px;\n",
              "      padding: 0 0 0 0;\n",
              "      width: 32px;\n",
              "    }\n",
              "\n",
              "    .colab-df-convert:hover {\n",
              "      background-color: #E2EBFA;\n",
              "      box-shadow: 0px 1px 2px rgba(60, 64, 67, 0.3), 0px 1px 3px 1px rgba(60, 64, 67, 0.15);\n",
              "      fill: #174EA6;\n",
              "    }\n",
              "\n",
              "    .colab-df-buttons div {\n",
              "      margin-bottom: 4px;\n",
              "    }\n",
              "\n",
              "    [theme=dark] .colab-df-convert {\n",
              "      background-color: #3B4455;\n",
              "      fill: #D2E3FC;\n",
              "    }\n",
              "\n",
              "    [theme=dark] .colab-df-convert:hover {\n",
              "      background-color: #434B5C;\n",
              "      box-shadow: 0px 1px 3px 1px rgba(0, 0, 0, 0.15);\n",
              "      filter: drop-shadow(0px 1px 2px rgba(0, 0, 0, 0.3));\n",
              "      fill: #FFFFFF;\n",
              "    }\n",
              "  </style>\n",
              "\n",
              "    <script>\n",
              "      const buttonEl =\n",
              "        document.querySelector('#df-88351bb8-8b5e-453e-8699-c6086695c0e5 button.colab-df-convert');\n",
              "      buttonEl.style.display =\n",
              "        google.colab.kernel.accessAllowed ? 'block' : 'none';\n",
              "\n",
              "      async function convertToInteractive(key) {\n",
              "        const element = document.querySelector('#df-88351bb8-8b5e-453e-8699-c6086695c0e5');\n",
              "        const dataTable =\n",
              "          await google.colab.kernel.invokeFunction('convertToInteractive',\n",
              "                                                    [key], {});\n",
              "        if (!dataTable) return;\n",
              "\n",
              "        const docLinkHtml = 'Like what you see? Visit the ' +\n",
              "          '<a target=\"_blank\" href=https://colab.research.google.com/notebooks/data_table.ipynb>data table notebook</a>'\n",
              "          + ' to learn more about interactive tables.';\n",
              "        element.innerHTML = '';\n",
              "        dataTable['output_type'] = 'display_data';\n",
              "        await google.colab.output.renderOutput(dataTable, element);\n",
              "        const docLink = document.createElement('div');\n",
              "        docLink.innerHTML = docLinkHtml;\n",
              "        element.appendChild(docLink);\n",
              "      }\n",
              "    </script>\n",
              "  </div>\n",
              "\n",
              "\n",
              "    <div id=\"df-df03d49c-f515-4c1c-9d4c-85be5b34cf02\">\n",
              "      <button class=\"colab-df-quickchart\" onclick=\"quickchart('df-df03d49c-f515-4c1c-9d4c-85be5b34cf02')\"\n",
              "                title=\"Suggest charts\"\n",
              "                style=\"display:none;\">\n",
              "\n",
              "<svg xmlns=\"http://www.w3.org/2000/svg\" height=\"24px\"viewBox=\"0 0 24 24\"\n",
              "     width=\"24px\">\n",
              "    <g>\n",
              "        <path d=\"M19 3H5c-1.1 0-2 .9-2 2v14c0 1.1.9 2 2 2h14c1.1 0 2-.9 2-2V5c0-1.1-.9-2-2-2zM9 17H7v-7h2v7zm4 0h-2V7h2v10zm4 0h-2v-4h2v4z\"/>\n",
              "    </g>\n",
              "</svg>\n",
              "      </button>\n",
              "\n",
              "<style>\n",
              "  .colab-df-quickchart {\n",
              "      --bg-color: #E8F0FE;\n",
              "      --fill-color: #1967D2;\n",
              "      --hover-bg-color: #E2EBFA;\n",
              "      --hover-fill-color: #174EA6;\n",
              "      --disabled-fill-color: #AAA;\n",
              "      --disabled-bg-color: #DDD;\n",
              "  }\n",
              "\n",
              "  [theme=dark] .colab-df-quickchart {\n",
              "      --bg-color: #3B4455;\n",
              "      --fill-color: #D2E3FC;\n",
              "      --hover-bg-color: #434B5C;\n",
              "      --hover-fill-color: #FFFFFF;\n",
              "      --disabled-bg-color: #3B4455;\n",
              "      --disabled-fill-color: #666;\n",
              "  }\n",
              "\n",
              "  .colab-df-quickchart {\n",
              "    background-color: var(--bg-color);\n",
              "    border: none;\n",
              "    border-radius: 50%;\n",
              "    cursor: pointer;\n",
              "    display: none;\n",
              "    fill: var(--fill-color);\n",
              "    height: 32px;\n",
              "    padding: 0;\n",
              "    width: 32px;\n",
              "  }\n",
              "\n",
              "  .colab-df-quickchart:hover {\n",
              "    background-color: var(--hover-bg-color);\n",
              "    box-shadow: 0 1px 2px rgba(60, 64, 67, 0.3), 0 1px 3px 1px rgba(60, 64, 67, 0.15);\n",
              "    fill: var(--button-hover-fill-color);\n",
              "  }\n",
              "\n",
              "  .colab-df-quickchart-complete:disabled,\n",
              "  .colab-df-quickchart-complete:disabled:hover {\n",
              "    background-color: var(--disabled-bg-color);\n",
              "    fill: var(--disabled-fill-color);\n",
              "    box-shadow: none;\n",
              "  }\n",
              "\n",
              "  .colab-df-spinner {\n",
              "    border: 2px solid var(--fill-color);\n",
              "    border-color: transparent;\n",
              "    border-bottom-color: var(--fill-color);\n",
              "    animation:\n",
              "      spin 1s steps(1) infinite;\n",
              "  }\n",
              "\n",
              "  @keyframes spin {\n",
              "    0% {\n",
              "      border-color: transparent;\n",
              "      border-bottom-color: var(--fill-color);\n",
              "      border-left-color: var(--fill-color);\n",
              "    }\n",
              "    20% {\n",
              "      border-color: transparent;\n",
              "      border-left-color: var(--fill-color);\n",
              "      border-top-color: var(--fill-color);\n",
              "    }\n",
              "    30% {\n",
              "      border-color: transparent;\n",
              "      border-left-color: var(--fill-color);\n",
              "      border-top-color: var(--fill-color);\n",
              "      border-right-color: var(--fill-color);\n",
              "    }\n",
              "    40% {\n",
              "      border-color: transparent;\n",
              "      border-right-color: var(--fill-color);\n",
              "      border-top-color: var(--fill-color);\n",
              "    }\n",
              "    60% {\n",
              "      border-color: transparent;\n",
              "      border-right-color: var(--fill-color);\n",
              "    }\n",
              "    80% {\n",
              "      border-color: transparent;\n",
              "      border-right-color: var(--fill-color);\n",
              "      border-bottom-color: var(--fill-color);\n",
              "    }\n",
              "    90% {\n",
              "      border-color: transparent;\n",
              "      border-bottom-color: var(--fill-color);\n",
              "    }\n",
              "  }\n",
              "</style>\n",
              "\n",
              "      <script>\n",
              "        async function quickchart(key) {\n",
              "          const quickchartButtonEl =\n",
              "            document.querySelector('#' + key + ' button');\n",
              "          quickchartButtonEl.disabled = true;  // To prevent multiple clicks.\n",
              "          quickchartButtonEl.classList.add('colab-df-spinner');\n",
              "          try {\n",
              "            const charts = await google.colab.kernel.invokeFunction(\n",
              "                'suggestCharts', [key], {});\n",
              "          } catch (error) {\n",
              "            console.error('Error during call to suggestCharts:', error);\n",
              "          }\n",
              "          quickchartButtonEl.classList.remove('colab-df-spinner');\n",
              "          quickchartButtonEl.classList.add('colab-df-quickchart-complete');\n",
              "        }\n",
              "        (() => {\n",
              "          let quickchartButtonEl =\n",
              "            document.querySelector('#df-df03d49c-f515-4c1c-9d4c-85be5b34cf02 button');\n",
              "          quickchartButtonEl.style.display =\n",
              "            google.colab.kernel.accessAllowed ? 'block' : 'none';\n",
              "        })();\n",
              "      </script>\n",
              "    </div>\n",
              "\n",
              "    </div>\n",
              "  </div>\n"
            ],
            "application/vnd.google.colaboratory.intrinsic+json": {
              "type": "dataframe",
              "variable_name": "titanic",
              "summary": "{\n  \"name\": \"titanic\",\n  \"rows\": 891,\n  \"fields\": [\n    {\n      \"column\": \"PassengerId\",\n      \"properties\": {\n        \"dtype\": \"number\",\n        \"std\": 257,\n        \"min\": 1,\n        \"max\": 891,\n        \"num_unique_values\": 891,\n        \"samples\": [\n          710,\n          440,\n          841\n        ],\n        \"semantic_type\": \"\",\n        \"description\": \"\"\n      }\n    },\n    {\n      \"column\": \"Survived\",\n      \"properties\": {\n        \"dtype\": \"number\",\n        \"std\": 0,\n        \"min\": 0,\n        \"max\": 1,\n        \"num_unique_values\": 2,\n        \"samples\": [\n          1,\n          0\n        ],\n        \"semantic_type\": \"\",\n        \"description\": \"\"\n      }\n    },\n    {\n      \"column\": \"Pclass\",\n      \"properties\": {\n        \"dtype\": \"number\",\n        \"std\": 0,\n        \"min\": 1,\n        \"max\": 3,\n        \"num_unique_values\": 3,\n        \"samples\": [\n          3,\n          1\n        ],\n        \"semantic_type\": \"\",\n        \"description\": \"\"\n      }\n    },\n    {\n      \"column\": \"Name\",\n      \"properties\": {\n        \"dtype\": \"string\",\n        \"num_unique_values\": 891,\n        \"samples\": [\n          \"Moubarek, Master. Halim Gonios (\\\"William George\\\")\",\n          \"Kvillner, Mr. Johan Henrik Johannesson\"\n        ],\n        \"semantic_type\": \"\",\n        \"description\": \"\"\n      }\n    },\n    {\n      \"column\": \"Sex\",\n      \"properties\": {\n        \"dtype\": \"category\",\n        \"num_unique_values\": 2,\n        \"samples\": [\n          \"female\",\n          \"male\"\n        ],\n        \"semantic_type\": \"\",\n        \"description\": \"\"\n      }\n    },\n    {\n      \"column\": \"Age\",\n      \"properties\": {\n        \"dtype\": \"number\",\n        \"std\": 14.526497332334044,\n        \"min\": 0.42,\n        \"max\": 80.0,\n        \"num_unique_values\": 88,\n        \"samples\": [\n          0.75,\n          22.0\n        ],\n        \"semantic_type\": \"\",\n        \"description\": \"\"\n      }\n    },\n    {\n      \"column\": \"SibSp\",\n      \"properties\": {\n        \"dtype\": \"number\",\n        \"std\": 1,\n        \"min\": 0,\n        \"max\": 8,\n        \"num_unique_values\": 7,\n        \"samples\": [\n          1,\n          0\n        ],\n        \"semantic_type\": \"\",\n        \"description\": \"\"\n      }\n    },\n    {\n      \"column\": \"Parch\",\n      \"properties\": {\n        \"dtype\": \"number\",\n        \"std\": 0,\n        \"min\": 0,\n        \"max\": 6,\n        \"num_unique_values\": 7,\n        \"samples\": [\n          0,\n          1\n        ],\n        \"semantic_type\": \"\",\n        \"description\": \"\"\n      }\n    },\n    {\n      \"column\": \"Ticket\",\n      \"properties\": {\n        \"dtype\": \"string\",\n        \"num_unique_values\": 681,\n        \"samples\": [\n          \"11774\",\n          \"248740\"\n        ],\n        \"semantic_type\": \"\",\n        \"description\": \"\"\n      }\n    },\n    {\n      \"column\": \"Fare\",\n      \"properties\": {\n        \"dtype\": \"number\",\n        \"std\": 49.693428597180905,\n        \"min\": 0.0,\n        \"max\": 512.3292,\n        \"num_unique_values\": 248,\n        \"samples\": [\n          11.2417,\n          51.8625\n        ],\n        \"semantic_type\": \"\",\n        \"description\": \"\"\n      }\n    },\n    {\n      \"column\": \"Cabin\",\n      \"properties\": {\n        \"dtype\": \"category\",\n        \"num_unique_values\": 147,\n        \"samples\": [\n          \"D45\",\n          \"B49\"\n        ],\n        \"semantic_type\": \"\",\n        \"description\": \"\"\n      }\n    },\n    {\n      \"column\": \"Embarked\",\n      \"properties\": {\n        \"dtype\": \"category\",\n        \"num_unique_values\": 3,\n        \"samples\": [\n          \"S\",\n          \"C\"\n        ],\n        \"semantic_type\": \"\",\n        \"description\": \"\"\n      }\n    }\n  ]\n}"
            }
          },
          "metadata": {},
          "execution_count": 314
        }
      ]
    },
    {
      "cell_type": "code",
      "source": [
        "titanic.shape"
      ],
      "metadata": {
        "colab": {
          "base_uri": "https://localhost:8080/"
        },
        "id": "2VJNZb8LAWCE",
        "outputId": "7522b14c-371e-4b77-bd14-4735ea8417c3"
      },
      "execution_count": 315,
      "outputs": [
        {
          "output_type": "execute_result",
          "data": {
            "text/plain": [
              "(891, 12)"
            ]
          },
          "metadata": {},
          "execution_count": 315
        }
      ]
    },
    {
      "cell_type": "code",
      "source": [
        "titanic = titanic.drop(columns = 'PassengerId')"
      ],
      "metadata": {
        "id": "nsngkvd8Yfgk"
      },
      "execution_count": 316,
      "outputs": []
    },
    {
      "cell_type": "code",
      "source": [
        "titanic.isnull().sum()"
      ],
      "metadata": {
        "colab": {
          "base_uri": "https://localhost:8080/",
          "height": 429
        },
        "id": "WZVEi_E9Dnkb",
        "outputId": "58b9af84-1447-4044-d0c0-4edbca37fda7"
      },
      "execution_count": 317,
      "outputs": [
        {
          "output_type": "execute_result",
          "data": {
            "text/plain": [
              "Survived      0\n",
              "Pclass        0\n",
              "Name          0\n",
              "Sex           0\n",
              "Age         177\n",
              "SibSp         0\n",
              "Parch         0\n",
              "Ticket        0\n",
              "Fare          0\n",
              "Cabin       687\n",
              "Embarked      2\n",
              "dtype: int64"
            ],
            "text/html": [
              "<div>\n",
              "<style scoped>\n",
              "    .dataframe tbody tr th:only-of-type {\n",
              "        vertical-align: middle;\n",
              "    }\n",
              "\n",
              "    .dataframe tbody tr th {\n",
              "        vertical-align: top;\n",
              "    }\n",
              "\n",
              "    .dataframe thead th {\n",
              "        text-align: right;\n",
              "    }\n",
              "</style>\n",
              "<table border=\"1\" class=\"dataframe\">\n",
              "  <thead>\n",
              "    <tr style=\"text-align: right;\">\n",
              "      <th></th>\n",
              "      <th>0</th>\n",
              "    </tr>\n",
              "  </thead>\n",
              "  <tbody>\n",
              "    <tr>\n",
              "      <th>Survived</th>\n",
              "      <td>0</td>\n",
              "    </tr>\n",
              "    <tr>\n",
              "      <th>Pclass</th>\n",
              "      <td>0</td>\n",
              "    </tr>\n",
              "    <tr>\n",
              "      <th>Name</th>\n",
              "      <td>0</td>\n",
              "    </tr>\n",
              "    <tr>\n",
              "      <th>Sex</th>\n",
              "      <td>0</td>\n",
              "    </tr>\n",
              "    <tr>\n",
              "      <th>Age</th>\n",
              "      <td>177</td>\n",
              "    </tr>\n",
              "    <tr>\n",
              "      <th>SibSp</th>\n",
              "      <td>0</td>\n",
              "    </tr>\n",
              "    <tr>\n",
              "      <th>Parch</th>\n",
              "      <td>0</td>\n",
              "    </tr>\n",
              "    <tr>\n",
              "      <th>Ticket</th>\n",
              "      <td>0</td>\n",
              "    </tr>\n",
              "    <tr>\n",
              "      <th>Fare</th>\n",
              "      <td>0</td>\n",
              "    </tr>\n",
              "    <tr>\n",
              "      <th>Cabin</th>\n",
              "      <td>687</td>\n",
              "    </tr>\n",
              "    <tr>\n",
              "      <th>Embarked</th>\n",
              "      <td>2</td>\n",
              "    </tr>\n",
              "  </tbody>\n",
              "</table>\n",
              "</div><br><label><b>dtype:</b> int64</label>"
            ]
          },
          "metadata": {},
          "execution_count": 317
        }
      ]
    },
    {
      "cell_type": "code",
      "source": [
        "titanic.info()"
      ],
      "metadata": {
        "colab": {
          "base_uri": "https://localhost:8080/"
        },
        "id": "F9L6Pe03_yPG",
        "outputId": "46e5f49e-d184-4c66-dbfd-dfee905b9c1d"
      },
      "execution_count": 318,
      "outputs": [
        {
          "output_type": "stream",
          "name": "stdout",
          "text": [
            "<class 'pandas.core.frame.DataFrame'>\n",
            "RangeIndex: 891 entries, 0 to 890\n",
            "Data columns (total 11 columns):\n",
            " #   Column    Non-Null Count  Dtype  \n",
            "---  ------    --------------  -----  \n",
            " 0   Survived  891 non-null    int64  \n",
            " 1   Pclass    891 non-null    int64  \n",
            " 2   Name      891 non-null    object \n",
            " 3   Sex       891 non-null    object \n",
            " 4   Age       714 non-null    float64\n",
            " 5   SibSp     891 non-null    int64  \n",
            " 6   Parch     891 non-null    int64  \n",
            " 7   Ticket    891 non-null    object \n",
            " 8   Fare      891 non-null    float64\n",
            " 9   Cabin     204 non-null    object \n",
            " 10  Embarked  889 non-null    object \n",
            "dtypes: float64(2), int64(4), object(5)\n",
            "memory usage: 76.7+ KB\n"
          ]
        }
      ]
    },
    {
      "cell_type": "code",
      "source": [
        "titanic.describe()"
      ],
      "metadata": {
        "colab": {
          "base_uri": "https://localhost:8080/",
          "height": 300
        },
        "id": "RJEnpEYVAPPh",
        "outputId": "8d5b2730-0d07-4c61-854f-9ac218f1cd38"
      },
      "execution_count": 319,
      "outputs": [
        {
          "output_type": "execute_result",
          "data": {
            "text/plain": [
              "         Survived      Pclass         Age       SibSp       Parch        Fare\n",
              "count  891.000000  891.000000  714.000000  891.000000  891.000000  891.000000\n",
              "mean     0.383838    2.308642   29.699118    0.523008    0.381594   32.204208\n",
              "std      0.486592    0.836071   14.526497    1.102743    0.806057   49.693429\n",
              "min      0.000000    1.000000    0.420000    0.000000    0.000000    0.000000\n",
              "25%      0.000000    2.000000   20.125000    0.000000    0.000000    7.910400\n",
              "50%      0.000000    3.000000   28.000000    0.000000    0.000000   14.454200\n",
              "75%      1.000000    3.000000   38.000000    1.000000    0.000000   31.000000\n",
              "max      1.000000    3.000000   80.000000    8.000000    6.000000  512.329200"
            ],
            "text/html": [
              "\n",
              "  <div id=\"df-0b24c013-7b3a-4a38-830e-642a12a3e5b8\" class=\"colab-df-container\">\n",
              "    <div>\n",
              "<style scoped>\n",
              "    .dataframe tbody tr th:only-of-type {\n",
              "        vertical-align: middle;\n",
              "    }\n",
              "\n",
              "    .dataframe tbody tr th {\n",
              "        vertical-align: top;\n",
              "    }\n",
              "\n",
              "    .dataframe thead th {\n",
              "        text-align: right;\n",
              "    }\n",
              "</style>\n",
              "<table border=\"1\" class=\"dataframe\">\n",
              "  <thead>\n",
              "    <tr style=\"text-align: right;\">\n",
              "      <th></th>\n",
              "      <th>Survived</th>\n",
              "      <th>Pclass</th>\n",
              "      <th>Age</th>\n",
              "      <th>SibSp</th>\n",
              "      <th>Parch</th>\n",
              "      <th>Fare</th>\n",
              "    </tr>\n",
              "  </thead>\n",
              "  <tbody>\n",
              "    <tr>\n",
              "      <th>count</th>\n",
              "      <td>891.000000</td>\n",
              "      <td>891.000000</td>\n",
              "      <td>714.000000</td>\n",
              "      <td>891.000000</td>\n",
              "      <td>891.000000</td>\n",
              "      <td>891.000000</td>\n",
              "    </tr>\n",
              "    <tr>\n",
              "      <th>mean</th>\n",
              "      <td>0.383838</td>\n",
              "      <td>2.308642</td>\n",
              "      <td>29.699118</td>\n",
              "      <td>0.523008</td>\n",
              "      <td>0.381594</td>\n",
              "      <td>32.204208</td>\n",
              "    </tr>\n",
              "    <tr>\n",
              "      <th>std</th>\n",
              "      <td>0.486592</td>\n",
              "      <td>0.836071</td>\n",
              "      <td>14.526497</td>\n",
              "      <td>1.102743</td>\n",
              "      <td>0.806057</td>\n",
              "      <td>49.693429</td>\n",
              "    </tr>\n",
              "    <tr>\n",
              "      <th>min</th>\n",
              "      <td>0.000000</td>\n",
              "      <td>1.000000</td>\n",
              "      <td>0.420000</td>\n",
              "      <td>0.000000</td>\n",
              "      <td>0.000000</td>\n",
              "      <td>0.000000</td>\n",
              "    </tr>\n",
              "    <tr>\n",
              "      <th>25%</th>\n",
              "      <td>0.000000</td>\n",
              "      <td>2.000000</td>\n",
              "      <td>20.125000</td>\n",
              "      <td>0.000000</td>\n",
              "      <td>0.000000</td>\n",
              "      <td>7.910400</td>\n",
              "    </tr>\n",
              "    <tr>\n",
              "      <th>50%</th>\n",
              "      <td>0.000000</td>\n",
              "      <td>3.000000</td>\n",
              "      <td>28.000000</td>\n",
              "      <td>0.000000</td>\n",
              "      <td>0.000000</td>\n",
              "      <td>14.454200</td>\n",
              "    </tr>\n",
              "    <tr>\n",
              "      <th>75%</th>\n",
              "      <td>1.000000</td>\n",
              "      <td>3.000000</td>\n",
              "      <td>38.000000</td>\n",
              "      <td>1.000000</td>\n",
              "      <td>0.000000</td>\n",
              "      <td>31.000000</td>\n",
              "    </tr>\n",
              "    <tr>\n",
              "      <th>max</th>\n",
              "      <td>1.000000</td>\n",
              "      <td>3.000000</td>\n",
              "      <td>80.000000</td>\n",
              "      <td>8.000000</td>\n",
              "      <td>6.000000</td>\n",
              "      <td>512.329200</td>\n",
              "    </tr>\n",
              "  </tbody>\n",
              "</table>\n",
              "</div>\n",
              "    <div class=\"colab-df-buttons\">\n",
              "\n",
              "  <div class=\"colab-df-container\">\n",
              "    <button class=\"colab-df-convert\" onclick=\"convertToInteractive('df-0b24c013-7b3a-4a38-830e-642a12a3e5b8')\"\n",
              "            title=\"Convert this dataframe to an interactive table.\"\n",
              "            style=\"display:none;\">\n",
              "\n",
              "  <svg xmlns=\"http://www.w3.org/2000/svg\" height=\"24px\" viewBox=\"0 -960 960 960\">\n",
              "    <path d=\"M120-120v-720h720v720H120Zm60-500h600v-160H180v160Zm220 220h160v-160H400v160Zm0 220h160v-160H400v160ZM180-400h160v-160H180v160Zm440 0h160v-160H620v160ZM180-180h160v-160H180v160Zm440 0h160v-160H620v160Z\"/>\n",
              "  </svg>\n",
              "    </button>\n",
              "\n",
              "  <style>\n",
              "    .colab-df-container {\n",
              "      display:flex;\n",
              "      gap: 12px;\n",
              "    }\n",
              "\n",
              "    .colab-df-convert {\n",
              "      background-color: #E8F0FE;\n",
              "      border: none;\n",
              "      border-radius: 50%;\n",
              "      cursor: pointer;\n",
              "      display: none;\n",
              "      fill: #1967D2;\n",
              "      height: 32px;\n",
              "      padding: 0 0 0 0;\n",
              "      width: 32px;\n",
              "    }\n",
              "\n",
              "    .colab-df-convert:hover {\n",
              "      background-color: #E2EBFA;\n",
              "      box-shadow: 0px 1px 2px rgba(60, 64, 67, 0.3), 0px 1px 3px 1px rgba(60, 64, 67, 0.15);\n",
              "      fill: #174EA6;\n",
              "    }\n",
              "\n",
              "    .colab-df-buttons div {\n",
              "      margin-bottom: 4px;\n",
              "    }\n",
              "\n",
              "    [theme=dark] .colab-df-convert {\n",
              "      background-color: #3B4455;\n",
              "      fill: #D2E3FC;\n",
              "    }\n",
              "\n",
              "    [theme=dark] .colab-df-convert:hover {\n",
              "      background-color: #434B5C;\n",
              "      box-shadow: 0px 1px 3px 1px rgba(0, 0, 0, 0.15);\n",
              "      filter: drop-shadow(0px 1px 2px rgba(0, 0, 0, 0.3));\n",
              "      fill: #FFFFFF;\n",
              "    }\n",
              "  </style>\n",
              "\n",
              "    <script>\n",
              "      const buttonEl =\n",
              "        document.querySelector('#df-0b24c013-7b3a-4a38-830e-642a12a3e5b8 button.colab-df-convert');\n",
              "      buttonEl.style.display =\n",
              "        google.colab.kernel.accessAllowed ? 'block' : 'none';\n",
              "\n",
              "      async function convertToInteractive(key) {\n",
              "        const element = document.querySelector('#df-0b24c013-7b3a-4a38-830e-642a12a3e5b8');\n",
              "        const dataTable =\n",
              "          await google.colab.kernel.invokeFunction('convertToInteractive',\n",
              "                                                    [key], {});\n",
              "        if (!dataTable) return;\n",
              "\n",
              "        const docLinkHtml = 'Like what you see? Visit the ' +\n",
              "          '<a target=\"_blank\" href=https://colab.research.google.com/notebooks/data_table.ipynb>data table notebook</a>'\n",
              "          + ' to learn more about interactive tables.';\n",
              "        element.innerHTML = '';\n",
              "        dataTable['output_type'] = 'display_data';\n",
              "        await google.colab.output.renderOutput(dataTable, element);\n",
              "        const docLink = document.createElement('div');\n",
              "        docLink.innerHTML = docLinkHtml;\n",
              "        element.appendChild(docLink);\n",
              "      }\n",
              "    </script>\n",
              "  </div>\n",
              "\n",
              "\n",
              "    <div id=\"df-dff75ab0-26ef-42cf-ac83-16846a92ba48\">\n",
              "      <button class=\"colab-df-quickchart\" onclick=\"quickchart('df-dff75ab0-26ef-42cf-ac83-16846a92ba48')\"\n",
              "                title=\"Suggest charts\"\n",
              "                style=\"display:none;\">\n",
              "\n",
              "<svg xmlns=\"http://www.w3.org/2000/svg\" height=\"24px\"viewBox=\"0 0 24 24\"\n",
              "     width=\"24px\">\n",
              "    <g>\n",
              "        <path d=\"M19 3H5c-1.1 0-2 .9-2 2v14c0 1.1.9 2 2 2h14c1.1 0 2-.9 2-2V5c0-1.1-.9-2-2-2zM9 17H7v-7h2v7zm4 0h-2V7h2v10zm4 0h-2v-4h2v4z\"/>\n",
              "    </g>\n",
              "</svg>\n",
              "      </button>\n",
              "\n",
              "<style>\n",
              "  .colab-df-quickchart {\n",
              "      --bg-color: #E8F0FE;\n",
              "      --fill-color: #1967D2;\n",
              "      --hover-bg-color: #E2EBFA;\n",
              "      --hover-fill-color: #174EA6;\n",
              "      --disabled-fill-color: #AAA;\n",
              "      --disabled-bg-color: #DDD;\n",
              "  }\n",
              "\n",
              "  [theme=dark] .colab-df-quickchart {\n",
              "      --bg-color: #3B4455;\n",
              "      --fill-color: #D2E3FC;\n",
              "      --hover-bg-color: #434B5C;\n",
              "      --hover-fill-color: #FFFFFF;\n",
              "      --disabled-bg-color: #3B4455;\n",
              "      --disabled-fill-color: #666;\n",
              "  }\n",
              "\n",
              "  .colab-df-quickchart {\n",
              "    background-color: var(--bg-color);\n",
              "    border: none;\n",
              "    border-radius: 50%;\n",
              "    cursor: pointer;\n",
              "    display: none;\n",
              "    fill: var(--fill-color);\n",
              "    height: 32px;\n",
              "    padding: 0;\n",
              "    width: 32px;\n",
              "  }\n",
              "\n",
              "  .colab-df-quickchart:hover {\n",
              "    background-color: var(--hover-bg-color);\n",
              "    box-shadow: 0 1px 2px rgba(60, 64, 67, 0.3), 0 1px 3px 1px rgba(60, 64, 67, 0.15);\n",
              "    fill: var(--button-hover-fill-color);\n",
              "  }\n",
              "\n",
              "  .colab-df-quickchart-complete:disabled,\n",
              "  .colab-df-quickchart-complete:disabled:hover {\n",
              "    background-color: var(--disabled-bg-color);\n",
              "    fill: var(--disabled-fill-color);\n",
              "    box-shadow: none;\n",
              "  }\n",
              "\n",
              "  .colab-df-spinner {\n",
              "    border: 2px solid var(--fill-color);\n",
              "    border-color: transparent;\n",
              "    border-bottom-color: var(--fill-color);\n",
              "    animation:\n",
              "      spin 1s steps(1) infinite;\n",
              "  }\n",
              "\n",
              "  @keyframes spin {\n",
              "    0% {\n",
              "      border-color: transparent;\n",
              "      border-bottom-color: var(--fill-color);\n",
              "      border-left-color: var(--fill-color);\n",
              "    }\n",
              "    20% {\n",
              "      border-color: transparent;\n",
              "      border-left-color: var(--fill-color);\n",
              "      border-top-color: var(--fill-color);\n",
              "    }\n",
              "    30% {\n",
              "      border-color: transparent;\n",
              "      border-left-color: var(--fill-color);\n",
              "      border-top-color: var(--fill-color);\n",
              "      border-right-color: var(--fill-color);\n",
              "    }\n",
              "    40% {\n",
              "      border-color: transparent;\n",
              "      border-right-color: var(--fill-color);\n",
              "      border-top-color: var(--fill-color);\n",
              "    }\n",
              "    60% {\n",
              "      border-color: transparent;\n",
              "      border-right-color: var(--fill-color);\n",
              "    }\n",
              "    80% {\n",
              "      border-color: transparent;\n",
              "      border-right-color: var(--fill-color);\n",
              "      border-bottom-color: var(--fill-color);\n",
              "    }\n",
              "    90% {\n",
              "      border-color: transparent;\n",
              "      border-bottom-color: var(--fill-color);\n",
              "    }\n",
              "  }\n",
              "</style>\n",
              "\n",
              "      <script>\n",
              "        async function quickchart(key) {\n",
              "          const quickchartButtonEl =\n",
              "            document.querySelector('#' + key + ' button');\n",
              "          quickchartButtonEl.disabled = true;  // To prevent multiple clicks.\n",
              "          quickchartButtonEl.classList.add('colab-df-spinner');\n",
              "          try {\n",
              "            const charts = await google.colab.kernel.invokeFunction(\n",
              "                'suggestCharts', [key], {});\n",
              "          } catch (error) {\n",
              "            console.error('Error during call to suggestCharts:', error);\n",
              "          }\n",
              "          quickchartButtonEl.classList.remove('colab-df-spinner');\n",
              "          quickchartButtonEl.classList.add('colab-df-quickchart-complete');\n",
              "        }\n",
              "        (() => {\n",
              "          let quickchartButtonEl =\n",
              "            document.querySelector('#df-dff75ab0-26ef-42cf-ac83-16846a92ba48 button');\n",
              "          quickchartButtonEl.style.display =\n",
              "            google.colab.kernel.accessAllowed ? 'block' : 'none';\n",
              "        })();\n",
              "      </script>\n",
              "    </div>\n",
              "\n",
              "    </div>\n",
              "  </div>\n"
            ],
            "application/vnd.google.colaboratory.intrinsic+json": {
              "type": "dataframe",
              "summary": "{\n  \"name\": \"titanic\",\n  \"rows\": 8,\n  \"fields\": [\n    {\n      \"column\": \"Survived\",\n      \"properties\": {\n        \"dtype\": \"number\",\n        \"std\": 314.8713661874558,\n        \"min\": 0.0,\n        \"max\": 891.0,\n        \"num_unique_values\": 5,\n        \"samples\": [\n          0.3838383838383838,\n          1.0,\n          0.4865924542648585\n        ],\n        \"semantic_type\": \"\",\n        \"description\": \"\"\n      }\n    },\n    {\n      \"column\": \"Pclass\",\n      \"properties\": {\n        \"dtype\": \"number\",\n        \"std\": 314.2523437079693,\n        \"min\": 0.8360712409770513,\n        \"max\": 891.0,\n        \"num_unique_values\": 6,\n        \"samples\": [\n          891.0,\n          2.308641975308642,\n          3.0\n        ],\n        \"semantic_type\": \"\",\n        \"description\": \"\"\n      }\n    },\n    {\n      \"column\": \"Age\",\n      \"properties\": {\n        \"dtype\": \"number\",\n        \"std\": 242.9056731818781,\n        \"min\": 0.42,\n        \"max\": 714.0,\n        \"num_unique_values\": 8,\n        \"samples\": [\n          29.69911764705882,\n          28.0,\n          714.0\n        ],\n        \"semantic_type\": \"\",\n        \"description\": \"\"\n      }\n    },\n    {\n      \"column\": \"SibSp\",\n      \"properties\": {\n        \"dtype\": \"number\",\n        \"std\": 314.4908277465442,\n        \"min\": 0.0,\n        \"max\": 891.0,\n        \"num_unique_values\": 6,\n        \"samples\": [\n          891.0,\n          0.5230078563411896,\n          8.0\n        ],\n        \"semantic_type\": \"\",\n        \"description\": \"\"\n      }\n    },\n    {\n      \"column\": \"Parch\",\n      \"properties\": {\n        \"dtype\": \"number\",\n        \"std\": 314.65971717879,\n        \"min\": 0.0,\n        \"max\": 891.0,\n        \"num_unique_values\": 5,\n        \"samples\": [\n          0.38159371492704824,\n          6.0,\n          0.8060572211299559\n        ],\n        \"semantic_type\": \"\",\n        \"description\": \"\"\n      }\n    },\n    {\n      \"column\": \"Fare\",\n      \"properties\": {\n        \"dtype\": \"number\",\n        \"std\": 330.6256632228577,\n        \"min\": 0.0,\n        \"max\": 891.0,\n        \"num_unique_values\": 8,\n        \"samples\": [\n          32.204207968574636,\n          14.4542,\n          891.0\n        ],\n        \"semantic_type\": \"\",\n        \"description\": \"\"\n      }\n    }\n  ]\n}"
            }
          },
          "metadata": {},
          "execution_count": 319
        }
      ]
    },
    {
      "cell_type": "code",
      "source": [
        "print(titanic.dtypes)"
      ],
      "metadata": {
        "colab": {
          "base_uri": "https://localhost:8080/"
        },
        "id": "OKkZshcQAfFI",
        "outputId": "12d54875-6216-42d1-9299-63b1e62a5445"
      },
      "execution_count": 320,
      "outputs": [
        {
          "output_type": "stream",
          "name": "stdout",
          "text": [
            "Survived      int64\n",
            "Pclass        int64\n",
            "Name         object\n",
            "Sex          object\n",
            "Age         float64\n",
            "SibSp         int64\n",
            "Parch         int64\n",
            "Ticket       object\n",
            "Fare        float64\n",
            "Cabin        object\n",
            "Embarked     object\n",
            "dtype: object\n"
          ]
        }
      ]
    },
    {
      "cell_type": "code",
      "source": [
        "titanic = titanic.dropna(subset=['Age'])"
      ],
      "metadata": {
        "id": "5FDMvunMAlhs"
      },
      "execution_count": 321,
      "outputs": []
    },
    {
      "cell_type": "markdown",
      "source": [
        "### 1.1 Mean"
      ],
      "metadata": {
        "id": "g4w6AUM2Ak8K"
      }
    },
    {
      "cell_type": "code",
      "source": [
        "column = titanic.select_dtypes(include=[\"int64\", \"float64\"]).columns"
      ],
      "metadata": {
        "id": "MOW6H8KsA7D2"
      },
      "execution_count": 322,
      "outputs": []
    },
    {
      "cell_type": "code",
      "source": [
        "column"
      ],
      "metadata": {
        "colab": {
          "base_uri": "https://localhost:8080/"
        },
        "id": "la_ja9a3BJf9",
        "outputId": "2b4608bd-a187-427c-9ad3-bf677fad3d86"
      },
      "execution_count": 323,
      "outputs": [
        {
          "output_type": "execute_result",
          "data": {
            "text/plain": [
              "Index(['Survived', 'Pclass', 'Age', 'SibSp', 'Parch', 'Fare'], dtype='object')"
            ]
          },
          "metadata": {},
          "execution_count": 323
        }
      ]
    },
    {
      "cell_type": "code",
      "source": [
        "def calc_mean(inputs):\n",
        "  n = len(inputs)\n",
        "  sum = 0\n",
        "  for i in inputs:\n",
        "    sum += i\n",
        "  return sum/n\n",
        "\n",
        "for c in column:\n",
        "  print(c, 'mean:', calc_mean(titanic[c]))"
      ],
      "metadata": {
        "colab": {
          "base_uri": "https://localhost:8080/"
        },
        "id": "-7jNi37VAgak",
        "outputId": "caccc31b-f84d-43f8-ecb4-0805a4089f3a"
      },
      "execution_count": 324,
      "outputs": [
        {
          "output_type": "stream",
          "name": "stdout",
          "text": [
            "Survived mean: 0.4061624649859944\n",
            "Pclass mean: 2.2366946778711485\n",
            "Age mean: 29.69911764705882\n",
            "SibSp mean: 0.5126050420168067\n",
            "Parch mean: 0.43137254901960786\n",
            "Fare mean: 34.69451400560218\n"
          ]
        }
      ]
    },
    {
      "cell_type": "markdown",
      "source": [
        "### 1.2 Median"
      ],
      "metadata": {
        "id": "GjV0qg9KKkQu"
      }
    },
    {
      "cell_type": "code",
      "source": [
        "def calc_median(inputs):\n",
        "  arr = sorted(inputs)\n",
        "  n = len(arr)\n",
        "  if n % 2 == 1:\n",
        "    median = arr[(n//2)]\n",
        "  else:\n",
        "    median = (arr[n // 2 - 1] + arr[n // 2])/2\n",
        "  return median\n",
        "\n",
        "for c in column:\n",
        "  print(c, 'median:', calc_median(titanic[c]))"
      ],
      "metadata": {
        "colab": {
          "base_uri": "https://localhost:8080/"
        },
        "id": "AMY4jt5xCk4u",
        "outputId": "810d3377-b2e4-44bb-a536-c39f08f0a9dc"
      },
      "execution_count": 325,
      "outputs": [
        {
          "output_type": "stream",
          "name": "stdout",
          "text": [
            "Survived median: 0.0\n",
            "Pclass median: 2.0\n",
            "Age median: 28.0\n",
            "SibSp median: 0.0\n",
            "Parch median: 0.0\n",
            "Fare median: 15.7417\n"
          ]
        }
      ]
    },
    {
      "cell_type": "markdown",
      "source": [
        "### 1.3 Mode"
      ],
      "metadata": {
        "id": "7IGgWpEUKmYu"
      }
    },
    {
      "cell_type": "code",
      "source": [
        "def calc_mode(inputs):\n",
        "  freq = {}   # dictionary for frequency count\n",
        "  for val in inputs:\n",
        "    if val in freq:\n",
        "      freq[val] += 1\n",
        "    else:\n",
        "      freq[val] = 1\n",
        "  # find max frequency\n",
        "  max_count = max(freq.values())\n",
        "  # all values that have max frequency (multimodal case handle)\n",
        "  modes = [k for k, v in freq.items() if v == max_count]\n",
        "  return modes      # multiple modes\n",
        "\n",
        "for c in column:\n",
        "  print(c, 'mode:', calc_mode(titanic[c]))"
      ],
      "metadata": {
        "colab": {
          "base_uri": "https://localhost:8080/"
        },
        "id": "gr_EES_OSwdh",
        "outputId": "d997dea9-0ec9-414f-f74e-ff53dea5ed18"
      },
      "execution_count": 326,
      "outputs": [
        {
          "output_type": "stream",
          "name": "stdout",
          "text": [
            "Survived mode: [0]\n",
            "Pclass mode: [3]\n",
            "Age mode: [24.0]\n",
            "SibSp mode: [0]\n",
            "Parch mode: [0]\n",
            "Fare mode: [13.0]\n"
          ]
        }
      ]
    },
    {
      "cell_type": "markdown",
      "source": [
        "### 1.4 min-max, Range"
      ],
      "metadata": {
        "id": "__qlRPdebQpJ"
      }
    },
    {
      "cell_type": "code",
      "source": [
        "def min_max(inputs):\n",
        "  arr = sorted(inputs)\n",
        "  n = len(arr)\n",
        "  min = arr[0]\n",
        "  max = arr[n-1]\n",
        "  range = max - min\n",
        "  return {'min': min, 'max': max, 'range': range}\n",
        "\n",
        "for c in column:\n",
        "  print(c, min_max(titanic[c]))\n",
        "  print('-'*10)"
      ],
      "metadata": {
        "colab": {
          "base_uri": "https://localhost:8080/"
        },
        "id": "yqRcI0c0bRqA",
        "outputId": "398de116-285b-4570-d424-b7cd46e1feaf"
      },
      "execution_count": 327,
      "outputs": [
        {
          "output_type": "stream",
          "name": "stdout",
          "text": [
            "Survived {'min': 0, 'max': 1, 'range': 1}\n",
            "----------\n",
            "Pclass {'min': 1, 'max': 3, 'range': 2}\n",
            "----------\n",
            "Age {'min': 0.42, 'max': 80.0, 'range': 79.58}\n",
            "----------\n",
            "SibSp {'min': 0, 'max': 5, 'range': 5}\n",
            "----------\n",
            "Parch {'min': 0, 'max': 6, 'range': 6}\n",
            "----------\n",
            "Fare {'min': 0.0, 'max': 512.3292, 'range': 512.3292}\n",
            "----------\n"
          ]
        }
      ]
    },
    {
      "cell_type": "markdown",
      "source": [
        "### 1.5 Variance"
      ],
      "metadata": {
        "id": "MUuxBfmHcNxB"
      }
    },
    {
      "cell_type": "code",
      "source": [
        "def calc_variance(inputs):\n",
        "  mean = calc_mean(inputs)\n",
        "  sum_squared_diff = 0\n",
        "  n = len(inputs)\n",
        "  for i in inputs:\n",
        "    sum_squared_diff += (i - mean)**2\n",
        "  return (sum_squared_diff/n)\n",
        "\n",
        "for c in column:\n",
        "  print(c, 'variance:', calc_variance(titanic[c]))"
      ],
      "metadata": {
        "colab": {
          "base_uri": "https://localhost:8080/"
        },
        "id": "69PSoyZMbyv0",
        "outputId": "2aa6448f-01c7-43e3-d978-d6c876083e38"
      },
      "execution_count": 328,
      "outputs": [
        {
          "output_type": "stream",
          "name": "stdout",
          "text": [
            "Survived variance: 0.24119451702249717\n",
            "Pclass variance: 0.7016787106999706\n",
            "Age variance: 210.7235797536662\n",
            "SibSp variance: 0.8632864910670125\n",
            "Parch variance: 0.7270829900587654\n",
            "Fare variance: 2796.4909524967265\n"
          ]
        }
      ]
    },
    {
      "cell_type": "markdown",
      "source": [
        "### 1.6 Standard Deviation"
      ],
      "metadata": {
        "id": "VZiStjghA0E3"
      }
    },
    {
      "cell_type": "code",
      "source": [
        "def calc_std_dev(inputs):\n",
        "  variance = calc_variance(inputs)\n",
        "  return math.sqrt(variance)\n",
        "\n",
        "for c in column:\n",
        "  print(c, 'Standard Deviation:', calc_std_dev(titanic[c]))"
      ],
      "metadata": {
        "colab": {
          "base_uri": "https://localhost:8080/"
        },
        "id": "Le1ssb3qkqU1",
        "outputId": "d8771d25-228a-4062-d4ec-06d12222f06e"
      },
      "execution_count": 329,
      "outputs": [
        {
          "output_type": "stream",
          "name": "stdout",
          "text": [
            "Survived Standard Deviation: 0.49111558417799894\n",
            "Pclass Standard Deviation: 0.837662647310939\n",
            "Age Standard Deviation: 14.516321150817317\n",
            "SibSp Standard Deviation: 0.9291321171216785\n",
            "Parch Standard Deviation: 0.8526916148636419\n",
            "Fare Standard Deviation: 52.881858444051744\n"
          ]
        }
      ]
    },
    {
      "cell_type": "markdown",
      "source": [
        "### 1.7  Quartiles, Percentiles"
      ],
      "metadata": {
        "id": "QLm74xZpKxBb"
      }
    },
    {
      "cell_type": "code",
      "source": [
        "def quartiles(inputs):\n",
        "  arr = sorted(inputs)\n",
        "  n = len(arr)\n",
        "  Q2 = calc_median(arr)\n",
        "  lower_half = arr[:n//2]\n",
        "  upper_half = arr[n//2:]\n",
        "  Q1 = calc_median(lower_half)\n",
        "  Q3 = calc_median(upper_half)\n",
        "  IQR = Q3 - Q1\n",
        "  return {'Q1': Q1, 'Q2': Q2, 'Q3': Q3}"
      ],
      "metadata": {
        "id": "DG62jjOmK3nv"
      },
      "execution_count": 330,
      "outputs": []
    },
    {
      "cell_type": "code",
      "source": [
        "for c in column:\n",
        "  print(c, quartiles(titanic[c]))\n",
        "  print('-'*10)"
      ],
      "metadata": {
        "colab": {
          "base_uri": "https://localhost:8080/"
        },
        "id": "ypI1xkmKK37R",
        "outputId": "6ff4e84d-a941-4990-9a0a-7c66373ebf26"
      },
      "execution_count": 331,
      "outputs": [
        {
          "output_type": "stream",
          "name": "stdout",
          "text": [
            "Survived {'Q1': 0, 'Q2': 0.0, 'Q3': 1}\n",
            "----------\n",
            "Pclass {'Q1': 1, 'Q2': 2.0, 'Q3': 3}\n",
            "----------\n",
            "Age {'Q1': 20.0, 'Q2': 28.0, 'Q3': 38.0}\n",
            "----------\n",
            "SibSp {'Q1': 0, 'Q2': 0.0, 'Q3': 1}\n",
            "----------\n",
            "Parch {'Q1': 0, 'Q2': 0.0, 'Q3': 1}\n",
            "----------\n",
            "Fare {'Q1': 8.05, 'Q2': 15.7417, 'Q3': 33.5}\n",
            "----------\n"
          ]
        }
      ]
    },
    {
      "cell_type": "markdown",
      "source": [
        "# 2. Relationships"
      ],
      "metadata": {
        "id": "IyU5TF_7FKQa"
      }
    },
    {
      "cell_type": "markdown",
      "source": [
        "### 2.1 Covariance"
      ],
      "metadata": {
        "id": "x_imkmlyInyW"
      }
    },
    {
      "cell_type": "markdown",
      "source": [
        "Covariance is calculated between 2 features to measure how two variable change together.\n",
        "\n",
        "Here lets take fare vs survival. To see if rich people have survived more."
      ],
      "metadata": {
        "id": "HziYqQGTI1H4"
      }
    },
    {
      "cell_type": "code",
      "source": [
        "def calc_covariance(x, y):\n",
        "  n = len(x)\n",
        "  sum = 0\n",
        "  for i in range(n):\n",
        "    sum += (x.iloc[i] - calc_mean(x)) * (y.iloc[i] - calc_mean(y))\n",
        "  return sum/n\n",
        "\n",
        "covariance = calc_covariance(titanic['Fare'], titanic['Survived'])\n",
        "print('The covariance score between fare and survived is', covariance)"
      ],
      "metadata": {
        "id": "NbLLX7TdIp9d",
        "colab": {
          "base_uri": "https://localhost:8080/"
        },
        "outputId": "f4745e5d-1a56-4cc6-a0d4-6030247ddace"
      },
      "execution_count": 332,
      "outputs": [
        {
          "output_type": "stream",
          "name": "stdout",
          "text": [
            "The covariance score between fare and survived is 6.96515467559572\n"
          ]
        }
      ]
    },
    {
      "cell_type": "markdown",
      "source": [
        "### 2.2 Pearson correlation"
      ],
      "metadata": {
        "id": "0sKH-qAhH5d-"
      }
    },
    {
      "cell_type": "markdown",
      "source": [
        "Pearson correlation measures a linear relationship between two variables"
      ],
      "metadata": {
        "id": "Hao1O1MUSxB5"
      }
    },
    {
      "cell_type": "code",
      "source": [
        "def PCC(x, y):\n",
        "  n = len(x)\n",
        "  x_mean = calc_mean(x)\n",
        "  y_mean = calc_mean(y)\n",
        "  sum = 0\n",
        "  sum_x = 0\n",
        "  sum_y = 0\n",
        "  for i in range(n):\n",
        "    sum += ((x.iloc[i] - x_mean) * (y.iloc[i] - y_mean))\n",
        "    sum_x += (x.iloc[i] - x_mean)**2\n",
        "    sum_y += (y.iloc[i] - y_mean)**2\n",
        "  return (sum) / math.sqrt(sum_x * sum_y)\n",
        "\n",
        "pcc = PCC(titanic['Fare'], titanic['Survived'])\n",
        "print('PCC score between fare and survived is', pcc)"
      ],
      "metadata": {
        "id": "Gm85-lceBims",
        "colab": {
          "base_uri": "https://localhost:8080/"
        },
        "outputId": "16314804-36fe-4cb1-ee12-56b527bac500"
      },
      "execution_count": 333,
      "outputs": [
        {
          "output_type": "stream",
          "name": "stdout",
          "text": [
            "PCC score between fare and survived is 0.2681886168744772\n"
          ]
        }
      ]
    },
    {
      "cell_type": "markdown",
      "source": [
        "### 2.3 Spearman rank correlation coefficient"
      ],
      "metadata": {
        "id": "cJYXUeXZOuDw"
      }
    },
    {
      "cell_type": "code",
      "source": [
        "titanic['Fare_rank'] = titanic['Fare'].rank()\n",
        "titanic['age_rank'] = titanic['Age'].rank()\n",
        "srcc = PCC(titanic['Fare_rank'], titanic['age_rank'])\n",
        "\n",
        "print('SRCC score between fare and age is', srcc)"
      ],
      "metadata": {
        "colab": {
          "base_uri": "https://localhost:8080/"
        },
        "id": "RE3NSs0MVsik",
        "outputId": "c4b768ec-b44b-41ec-d7d1-43814a0bcb59"
      },
      "execution_count": 334,
      "outputs": [
        {
          "output_type": "stream",
          "name": "stdout",
          "text": [
            "SRCC score between fare and age is 0.13505121773428777\n"
          ]
        }
      ]
    },
    {
      "cell_type": "markdown",
      "source": [
        "# 3. Probability and Distributions"
      ],
      "metadata": {
        "id": "bPhfYieTJ-La"
      }
    },
    {
      "cell_type": "markdown",
      "source": [
        "### 3.1 Bernoulli Distribution"
      ],
      "metadata": {
        "id": "ygLWrTjSZZQP"
      }
    },
    {
      "cell_type": "code",
      "source": [
        "def ber_pmf(x):\n",
        "  count = sum(1 for i in x if i==1)\n",
        "  p = count/len(x)\n",
        "  q = 1 - p\n",
        "  return  p, q"
      ],
      "metadata": {
        "id": "ZEmrFsQlKDUg"
      },
      "execution_count": 335,
      "outputs": []
    },
    {
      "cell_type": "code",
      "source": [
        "ber_pmf = ber_pmf(titanic['Survived'])\n",
        "ber_values = [1, 0]\n",
        "\n",
        "plt.bar(ber_values, ber_pmf, width= 0.7, color = ['red', 'blue']) # Creates a line plot\n",
        "#or for a scatter plot:\n",
        "# plt.plot(x_data, y_data, 'o') # 'o' specifies marker style (circles)\n",
        "plt.xlabel(\"values\")\n",
        "plt.ylabel(\"PMF\")\n",
        "plt.title(\"Bernoulli Distribution\")\n",
        "plt.show()"
      ],
      "metadata": {
        "colab": {
          "base_uri": "https://localhost:8080/",
          "height": 472
        },
        "id": "Fo2bh5gTKN8X",
        "outputId": "b2a5ec22-fe26-4424-b60c-ee7788502af3"
      },
      "execution_count": 336,
      "outputs": [
        {
          "output_type": "display_data",
          "data": {
            "text/plain": [
              "<Figure size 640x480 with 1 Axes>"
            ],
            "image/png": "[encoded data removed]"
          },
          "metadata": {}
        }
      ]
    },
    {
      "cell_type": "code",
      "source": [
        "#bernoulli mean\n",
        "def ber_mean(x):\n",
        "  count = sum(1 for i in x if i==1)\n",
        "  p = count/(len(x))\n",
        "  return p\n",
        "\n",
        "ber_mean = ber_mean(titanic['Survived'])\n",
        "print('Bernoulli Distrbution mean:', ber_mean)"
      ],
      "metadata": {
        "id": "BdeHEm-FLF4u",
        "colab": {
          "base_uri": "https://localhost:8080/"
        },
        "outputId": "f2bf46ba-7eb1-4beb-9a24-e0deed97e228"
      },
      "execution_count": 337,
      "outputs": [
        {
          "output_type": "stream",
          "name": "stdout",
          "text": [
            "Bernoulli Distrbution mean: 0.4061624649859944\n"
          ]
        }
      ]
    },
    {
      "cell_type": "code",
      "source": [
        "# Bernoulli variance\n",
        "def ber_var(inputs):\n",
        "  p = ber_mean\n",
        "  q = 1 - p\n",
        "  return p*q\n",
        "\n",
        "print('Bernoulli Distribution variance:', ber_var(titanic['Survived']))"
      ],
      "metadata": {
        "id": "ObOQXVCpReUA",
        "colab": {
          "base_uri": "https://localhost:8080/"
        },
        "outputId": "1ea9ea38-98e8-4935-9518-d3dc782cde49"
      },
      "execution_count": 338,
      "outputs": [
        {
          "output_type": "stream",
          "name": "stdout",
          "text": [
            "Bernoulli Distribution variance: 0.24119451702249528\n"
          ]
        }
      ]
    },
    {
      "cell_type": "markdown",
      "source": [
        "## 3.2 Binomial Distribution"
      ],
      "metadata": {
        "id": "feYwSi1ze4wP"
      }
    },
    {
      "cell_type": "code",
      "source": [
        "def bin_pmf(inputs):\n",
        "  n = len(inputs)\n",
        "  prob_list = []\n",
        "  p = sum(inputs)/n\n",
        "  q = 1 - p\n",
        "  for k in range(n):\n",
        "    nCk = math.factorial(n) / (math.factorial(k) * (math.factorial(n-k)))\n",
        "    f = nCk * (p ** k) * (q ** (n-k))\n",
        "    prob_list.append(f)\n",
        "  return prob_list"
      ],
      "metadata": {
        "id": "lUj5U41CReWS"
      },
      "execution_count": 339,
      "outputs": []
    },
    {
      "cell_type": "code",
      "source": [
        "y_bin = bin_pmf(titanic['Survived'])\n",
        "x_bin = list(range(len(y_bin))) #taking k on x_axis\n",
        "\n",
        "plt.plot(x_bin, y_bin, marker='o')\n",
        "plt.title(\"Binomial ditribution PMF (from scratch)\")\n",
        "plt.xlabel(\"x\")\n",
        "plt.ylabel(\"Probability Density\")\n",
        "plt.grid(True)\n",
        "plt.show()"
      ],
      "metadata": {
        "colab": {
          "base_uri": "https://localhost:8080/",
          "height": 472
        },
        "id": "Xoi2l8XFReYc",
        "outputId": "08834623-b9bd-4e10-8337-869123fd4def"
      },
      "execution_count": 340,
      "outputs": [
        {
          "output_type": "display_data",
          "data": {
            "text/plain": [
              "<Figure size 640x480 with 1 Axes>"
            ],
            "image/png": "[encoded data removed]"
          },
          "metadata": {}
        }
      ]
    },
    {
      "cell_type": "code",
      "source": [
        "# binomial mean\n",
        "def bin_mean(inputs):\n",
        "  n = len(inputs)\n",
        "  k = sum(inputs)\n",
        "  p = k/n\n",
        "  return n * p\n",
        "print('Binomial Distribution mean:', bin_mean(titanic['Survived']))"
      ],
      "metadata": {
        "id": "gL0zT3KIbN37",
        "colab": {
          "base_uri": "https://localhost:8080/"
        },
        "outputId": "d1343407-9644-4e88-8895-90efcde99dea"
      },
      "execution_count": 341,
      "outputs": [
        {
          "output_type": "stream",
          "name": "stdout",
          "text": [
            "Binomial Distribution mean: 290.0\n"
          ]
        }
      ]
    },
    {
      "cell_type": "code",
      "source": [
        "# Binomial Variance\n",
        "def bin_var(inputs):\n",
        "  n = len(inputs)\n",
        "  k = sum(inputs)\n",
        "  p = k/n\n",
        "  q = 1 - p\n",
        "  return n*p*q\n",
        "print('Binomial Distribution variance:', bin_var(titanic['Survived']))"
      ],
      "metadata": {
        "id": "kz3mEepVkLtd",
        "colab": {
          "base_uri": "https://localhost:8080/"
        },
        "outputId": "9775af18-8706-4ef3-a848-f2e01a35c25a"
      },
      "execution_count": 342,
      "outputs": [
        {
          "output_type": "stream",
          "name": "stdout",
          "text": [
            "Binomial Distribution variance: 172.21288515406164\n"
          ]
        }
      ]
    },
    {
      "cell_type": "markdown",
      "source": [
        "## 3.3 Uniform Distribution"
      ],
      "metadata": {
        "id": "wpCr9DczWByw"
      }
    },
    {
      "cell_type": "code",
      "source": [
        "def uni_pmf_discrete(inputs):\n",
        "    unique_vals = sorted(set(inputs))\n",
        "    n_unique = len(unique_vals)\n",
        "    pmf_dict = {}\n",
        "    for val in unique_vals:\n",
        "        pmf_dict[val] = 1 / n_unique\n",
        "    return pmf_dict"
      ],
      "metadata": {
        "id": "mIqQ1sPhWFAW"
      },
      "execution_count": 343,
      "outputs": []
    },
    {
      "cell_type": "code",
      "source": [
        "pmf_pclass = uni_pmf_discrete(titanic['Pclass'])\n",
        "\n",
        "# Plot PMF\n",
        "plt.figure(figsize=(4,3))\n",
        "plt.bar(pmf_pclass.keys(), pmf_pclass.values(), color='skyblue', edgecolor='black')\n",
        "plt.xlabel(\"Pclass\")\n",
        "plt.ylabel(\"Probability\")\n",
        "plt.title(\"Discrete Uniform PMF of Pclass\")\n",
        "plt.show()"
      ],
      "metadata": {
        "colab": {
          "base_uri": "https://localhost:8080/",
          "height": 333
        },
        "id": "QucMb4X0ZXPC",
        "outputId": "ded226df-6ddd-44a4-84e5-2decc9ca55b3"
      },
      "execution_count": 344,
      "outputs": [
        {
          "output_type": "display_data",
          "data": {
            "text/plain": [
              "<Figure size 400x300 with 1 Axes>"
            ],
            "image/png": "[encoded data removed]"
          },
          "metadata": {}
        }
      ]
    },
    {
      "cell_type": "code",
      "source": [
        "pmf_dict = uni_pmf_discrete(titanic['Pclass'])\n",
        "uni_mean = sum(k * v for k, v in pmf_dict.items())\n",
        "uni_variance = sum(v * (k - uni_mean)**2 for k, v in pmf_dict.items())\n",
        "\n",
        "print(\"Discrete Uniform (Pclass) mean:\", uni_mean)\n",
        "print(\"Discrete Uniform (Pclass) variance:\", uni_variance)"
      ],
      "metadata": {
        "colab": {
          "base_uri": "https://localhost:8080/"
        },
        "id": "xu0u7b_cWFC4",
        "outputId": "a9ca2953-1310-4617-e664-c4cb5caa8612"
      },
      "execution_count": 345,
      "outputs": [
        {
          "output_type": "stream",
          "name": "stdout",
          "text": [
            "Discrete Uniform (Pclass) mean: 2.0\n",
            "Discrete Uniform (Pclass) variance: 0.6666666666666666\n"
          ]
        }
      ]
    },
    {
      "cell_type": "markdown",
      "source": [
        "## 3.3 Normal/Gaussian Distribution"
      ],
      "metadata": {
        "id": "tz9IGA_Emnr_"
      }
    },
    {
      "cell_type": "code",
      "source": [
        "# Gaussian PDF\n",
        "\n",
        "def gaus_pdf(inputs):\n",
        "  variance = calc_variance(inputs)\n",
        "  mean = calc_mean(inputs)\n",
        "  pdf_values= []\n",
        "\n",
        "  for i in inputs:\n",
        "    exponent = ((i - mean) ** 2 ) / (2 * variance)\n",
        "    base = 1/ (math.sqrt(2 * math.pi * variance))\n",
        "    f = base * math.exp(- exponent)\n",
        "    pdf_values.append(f)\n",
        "  return pdf_values\n",
        "\n",
        "#x_gaus =  titanic['Age']\n",
        "x_gaus =  sorted(titanic['Age'])\n",
        "y_gaus = gaus_pdf(x_gaus)\n",
        "\n",
        "plt.plot(x_gaus, y_gaus, marker='o')\n",
        "plt.title(\"Gaussian PDF (from scratch)\")\n",
        "plt.xlabel(\"x\")\n",
        "plt.ylabel(\"Probability Density\")\n",
        "plt.grid(True)\n",
        "plt.show()"
      ],
      "metadata": {
        "colab": {
          "base_uri": "https://localhost:8080/",
          "height": 472
        },
        "id": "1-I5mW_ImtLf",
        "outputId": "1e454c49-9f0d-42ac-ddb9-bb5b91a87087"
      },
      "execution_count": 346,
      "outputs": [
        {
          "output_type": "display_data",
          "data": {
            "text/plain": [
              "<Figure size 640x480 with 1 Axes>"
            ],
            "image/png": "[encoded data removed]"
          },
          "metadata": {}
        }
      ]
    },
    {
      "cell_type": "code",
      "source": [
        "#Gaussian Mean\n",
        "gaus_mean =  calc_mean(titanic['Age'])\n",
        "print('Gaussian Distribution mean:', gaus_mean)"
      ],
      "metadata": {
        "colab": {
          "base_uri": "https://localhost:8080/"
        },
        "id": "Q8voGS1f8qCe",
        "outputId": "c40b82b1-68ad-406a-9ebb-6ce897c8827d"
      },
      "execution_count": 347,
      "outputs": [
        {
          "output_type": "stream",
          "name": "stdout",
          "text": [
            "Gaussian Distribution mean: 29.69911764705882\n"
          ]
        }
      ]
    },
    {
      "cell_type": "code",
      "source": [
        "#Gaussian Variance\n",
        "def calc_variance(values):\n",
        "  mean = calc_mean(values)\n",
        "  total = 0\n",
        "  for x in values:\n",
        "    total += (x - mean) ** 2\n",
        "  return total / len(values)   # population variance (divide by n)\n",
        "print('Gaussian Distribution variance:', calc_variance(titanic['Age']))"
      ],
      "metadata": {
        "id": "sBISZCG7mt6b",
        "colab": {
          "base_uri": "https://localhost:8080/"
        },
        "outputId": "8000835e-313a-4047-8508-b6f4370d0462"
      },
      "execution_count": 348,
      "outputs": [
        {
          "output_type": "stream",
          "name": "stdout",
          "text": [
            "Gaussian Distribution variance: 210.7235797536662\n"
          ]
        }
      ]
    },
    {
      "cell_type": "markdown",
      "source": [
        "## 3.4 Log-Normal Distribution"
      ],
      "metadata": {
        "id": "tDRJv0fE3vHv"
      }
    },
    {
      "cell_type": "code",
      "source": [
        "# we will use Fare feature here\n",
        "# As it is always positive, right skewed\n",
        "\n",
        "def log_nor_pdf(inputs):\n",
        "  std_dev = calc_std_dev(inputs)\n",
        "  mean = calc_mean(inputs)\n",
        "  variance = calc_variance(inputs)\n",
        "  pdf_values = []\n",
        "  for i in inputs:\n",
        "    if i <= 0:\n",
        "      pdf_values.append(0)  # log-normal undefined for x <= 0\n",
        "    else:\n",
        "      base = 1 / (i* std_dev * math.sqrt(2 * math.pi))\n",
        "      exponent = - (((math.log(i) - mean)**2) / (2 * variance))\n",
        "      f = base * math.exp(exponent)\n",
        "      pdf_values.append(f)\n",
        "  return pdf_values\n",
        "\n",
        "#x_gaus =  titanic['Age']\n",
        "x_log =  sorted(titanic['Age'])\n",
        "y_log = log_nor_pdf(x_gaus)\n",
        "\n",
        "plt.plot(x_log, y_log, marker='o')\n",
        "plt.title(\"Log-Normal PDF (from scratch)\")\n",
        "plt.xlabel(\"x\")\n",
        "plt.ylabel(\"Probability Density\")\n",
        "plt.grid(True)\n",
        "plt.show()"
      ],
      "metadata": {
        "colab": {
          "base_uri": "https://localhost:8080/",
          "height": 472
        },
        "id": "BQBh2Xjg3xGw",
        "outputId": "f760cd72-5f6c-4898-9211-10edeff22f1d"
      },
      "execution_count": 349,
      "outputs": [
        {
          "output_type": "display_data",
          "data": {
            "text/plain": [
              "<Figure size 640x480 with 1 Axes>"
            ],
            "image/png": "[encoded data removed]"
          },
          "metadata": {}
        }
      ]
    },
    {
      "cell_type": "code",
      "source": [
        "#Log-Normal Mean\n",
        "def log_nor_mean(inputs):\n",
        "  log_values = [math.log(x) for x in inputs if x > 0]\n",
        "  exponent = calc_mean(log_values) + (calc_variance(log_values)/2)\n",
        "  return math.exp(exponent)\n",
        "  #return math.exp(calc_mean(inputs) + (calc_variance(inputs)/2))\n",
        "\n",
        "print('Log Normal Distribution mean:', log_nor_mean(titanic['Fare']))"
      ],
      "metadata": {
        "colab": {
          "base_uri": "https://localhost:8080/"
        },
        "id": "v0epDuRQLW2q",
        "outputId": "877efc46-8b58-42ab-8a42-6719ef4e74dd"
      },
      "execution_count": 350,
      "outputs": [
        {
          "output_type": "stream",
          "name": "stdout",
          "text": [
            "Log Normal Distribution mean: 31.632928410521533\n"
          ]
        }
      ]
    },
    {
      "cell_type": "code",
      "source": [
        "#log-Normal variance\n",
        "\n",
        "def log_nor_var(inputs):\n",
        "  log_values = [math.log(x) for x in inputs if x > 0]\n",
        "  variance = calc_variance(log_values)\n",
        "  mean = calc_mean(log_values)\n",
        "  base = math.exp(variance) - 1\n",
        "  exponent = math.exp((2* mean) + variance)\n",
        "  return base * exponent\n",
        "\n",
        "print('Log Normal Distribution variance:', log_nor_var(titanic['Fare']))"
      ],
      "metadata": {
        "colab": {
          "base_uri": "https://localhost:8080/"
        },
        "id": "vkD0vr7J3xq7",
        "outputId": "a83183f9-96c4-4bda-a858-d2323316b544"
      },
      "execution_count": 351,
      "outputs": [
        {
          "output_type": "stream",
          "name": "stdout",
          "text": [
            "Log Normal Distribution variance: 1452.1641775860173\n"
          ]
        }
      ]
    }
  ]
}